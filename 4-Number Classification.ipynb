{
 "cells": [
  {
   "cell_type": "code",
   "execution_count": 26,
   "id": "4f040100",
   "metadata": {},
   "outputs": [],
   "source": [
    "import torch\n",
    "import torchvision\n",
    "from torchvision.datasets import MNIST"
   ]
  },
  {
   "cell_type": "code",
   "execution_count": 27,
   "id": "6ab7e5ce",
   "metadata": {},
   "outputs": [],
   "source": [
    "dataset = MNIST(root='data/', download=True)"
   ]
  },
  {
   "cell_type": "code",
   "execution_count": 28,
   "id": "f72f0f8a",
   "metadata": {},
   "outputs": [
    {
     "data": {
      "text/plain": [
       "60000"
      ]
     },
     "execution_count": 28,
     "metadata": {},
     "output_type": "execute_result"
    }
   ],
   "source": [
    "len(dataset)"
   ]
  },
  {
   "cell_type": "code",
   "execution_count": 29,
   "id": "856e7264",
   "metadata": {},
   "outputs": [
    {
     "data": {
      "text/plain": [
       "10000"
      ]
     },
     "execution_count": 29,
     "metadata": {},
     "output_type": "execute_result"
    }
   ],
   "source": [
    "test_dataset = MNIST(root='data/', train=False)\n",
    "len(test_dataset)"
   ]
  },
  {
   "cell_type": "code",
   "execution_count": 30,
   "id": "4412d483",
   "metadata": {},
   "outputs": [
    {
     "data": {
      "text/plain": [
       "(<PIL.Image.Image image mode=L size=28x28>, 5)"
      ]
     },
     "execution_count": 30,
     "metadata": {},
     "output_type": "execute_result"
    }
   ],
   "source": [
    "dataset[0]"
   ]
  },
  {
   "cell_type": "code",
   "execution_count": 31,
   "id": "e68f6deb",
   "metadata": {},
   "outputs": [],
   "source": [
    "import matplotlib.pyplot as plt\n",
    "%matplotlib inline"
   ]
  },
  {
   "cell_type": "code",
   "execution_count": 32,
   "id": "fa5cc6c7",
   "metadata": {},
   "outputs": [
    {
     "name": "stdout",
     "output_type": "stream",
     "text": [
      "Label: 5\n"
     ]
    },
    {
     "data": {
      "image/png": "[encoded data removed]",
      "text/plain": [
       "<Figure size 640x480 with 1 Axes>"
      ]
     },
     "metadata": {},
     "output_type": "display_data"
    }
   ],
   "source": [
    "image, label = dataset[0]\n",
    "plt.imshow(image, cmap='gray')\n",
    "print('Label:', label)    "
   ]
  },
  {
   "cell_type": "code",
   "execution_count": 33,
   "id": "8e5c2463",
   "metadata": {},
   "outputs": [
    {
     "name": "stdout",
     "output_type": "stream",
     "text": [
      "Label: 3\n"
     ]
    },
    {
     "data": {
      "image/png": "[encoded data removed]",
      "text/plain": [
       "<Figure size 640x480 with 1 Axes>"
      ]
     },
     "metadata": {},
     "output_type": "display_data"
    }
   ],
   "source": [
    "image, label = dataset[10]\n",
    "plt.imshow(image, cmap='gray')\n",
    "print('Label:', label)"
   ]
  },
  {
   "cell_type": "code",
   "execution_count": 34,
   "id": "665c0ff4",
   "metadata": {},
   "outputs": [],
   "source": [
    "import torchvision.transforms as transforms"
   ]
  },
  {
   "cell_type": "code",
   "execution_count": 35,
   "id": "8eb0aa0e",
   "metadata": {},
   "outputs": [],
   "source": [
    "# MNIST dataset (image and lables)\n",
    "dataset = MNIST(root='data/',\n",
    "                train=True,\n",
    "                transform=transforms.ToTensor())"
   ]
  },
  {
   "cell_type": "code",
   "execution_count": 36,
   "id": "40db33d9",
   "metadata": {},
   "outputs": [
    {
     "name": "stdout",
     "output_type": "stream",
     "text": [
      "torch.Size([1, 28, 28]) 5\n"
     ]
    }
   ],
   "source": [
    "img_tensor, label = dataset[0]\n",
    "print(img_tensor.shape, label)"
   ]
  },
  {
   "cell_type": "code",
   "execution_count": 37,
   "id": "30929630",
   "metadata": {},
   "outputs": [
    {
     "name": "stdout",
     "output_type": "stream",
     "text": [
      "tensor([[0.0039, 0.6039, 0.9922, 0.3529, 0.0000],\n",
      "        [0.0000, 0.5451, 0.9922, 0.7451, 0.0078],\n",
      "        [0.0000, 0.0431, 0.7451, 0.9922, 0.2745],\n",
      "        [0.0000, 0.0000, 0.1373, 0.9451, 0.8824],\n",
      "        [0.0000, 0.0000, 0.0000, 0.3176, 0.9412]])\n",
      "tensor(1.) tensor(0.)\n"
     ]
    }
   ],
   "source": [
    "print(img_tensor[0,10:15,10:15])\n",
    "print(torch.max(img_tensor), torch.min(img_tensor))"
   ]
  },
  {
   "cell_type": "code",
   "execution_count": 38,
   "id": "0098c1e4",
   "metadata": {},
   "outputs": [
    {
     "data": {
      "text/plain": [
       "<matplotlib.image.AxesImage at 0x164c5f81e50>"
      ]
     },
     "execution_count": 38,
     "metadata": {},
     "output_type": "execute_result"
    },
    {
     "data": {
      "image/png": "[encoded data removed]",
      "text/plain": [
       "<Figure size 640x480 with 1 Axes>"
      ]
     },
     "metadata": {},
     "output_type": "display_data"
    }
   ],
   "source": [
    "# plot the image by passing inthe 28x28 matrix\n",
    "plt.imshow(img_tensor[0,10:15,10:15], cmap='gray')"
   ]
  },
  {
   "cell_type": "code",
   "execution_count": 39,
   "id": "98d13e5a",
   "metadata": {},
   "outputs": [
    {
     "data": {
      "text/plain": [
       "(50000, 10000)"
      ]
     },
     "execution_count": 39,
     "metadata": {},
     "output_type": "execute_result"
    }
   ],
   "source": [
    "from torch.utils.data import random_split\n",
    "\n",
    "train_ds, val_ds = random_split(dataset, [50000, 10000])\n",
    "len(train_ds), len(val_ds)"
   ]
  },
  {
   "cell_type": "code",
   "execution_count": 40,
   "id": "4621909b",
   "metadata": {},
   "outputs": [],
   "source": [
    "from torch.utils.data import DataLoader\n",
    "\n",
    "batch_size = 128\n",
    "\n",
    "train_loader = DataLoader(train_ds, batch_size, shuffle=True)\n",
    "val_loader = DataLoader(val_ds, batch_size)"
   ]
  },
  {
   "cell_type": "code",
   "execution_count": 41,
   "id": "bce16420",
   "metadata": {},
   "outputs": [],
   "source": [
    "import torch.nn as nn\n",
    "\n",
    "input_size = 28*28\n",
    "num_classes = 10\n",
    "\n",
    "#Logistic Regression model\n",
    "model = nn.Linear(input_size, num_classes)"
   ]
  },
  {
   "cell_type": "code",
   "execution_count": 42,
   "id": "1f5f54b5",
   "metadata": {},
   "outputs": [
    {
     "name": "stdout",
     "output_type": "stream",
     "text": [
      "torch.Size([10, 784])\n"
     ]
    },
    {
     "data": {
      "text/plain": [
       "Parameter containing:\n",
       "tensor([[-0.0183,  0.0330,  0.0316,  ..., -0.0284,  0.0116,  0.0340],\n",
       "        [ 0.0122, -0.0198, -0.0293,  ...,  0.0083,  0.0069, -0.0229],\n",
       "        [ 0.0222,  0.0045,  0.0176,  ...,  0.0057, -0.0270, -0.0138],\n",
       "        ...,\n",
       "        [ 0.0169,  0.0186, -0.0018,  ..., -0.0010, -0.0195, -0.0177],\n",
       "        [ 0.0032,  0.0113, -0.0176,  ..., -0.0017,  0.0066,  0.0236],\n",
       "        [ 0.0012,  0.0051, -0.0230,  ...,  0.0017, -0.0233, -0.0073]],\n",
       "       requires_grad=True)"
      ]
     },
     "execution_count": 42,
     "metadata": {},
     "output_type": "execute_result"
    }
   ],
   "source": [
    "print(model.weight.shape)\n",
    "model.weight"
   ]
  },
  {
   "cell_type": "code",
   "execution_count": 43,
   "id": "fc35ece5",
   "metadata": {},
   "outputs": [
    {
     "name": "stdout",
     "output_type": "stream",
     "text": [
      "torch.Size([10])\n"
     ]
    },
    {
     "data": {
      "text/plain": [
       "Parameter containing:\n",
       "tensor([ 0.0094, -0.0191,  0.0305,  0.0329,  0.0330, -0.0071,  0.0269,  0.0215,\n",
       "         0.0169,  0.0172], requires_grad=True)"
      ]
     },
     "execution_count": 43,
     "metadata": {},
     "output_type": "execute_result"
    }
   ],
   "source": [
    "print(model.bias.shape)\n",
    "model.bias"
   ]
  },
  {
   "cell_type": "code",
   "execution_count": 44,
   "id": "c1505fc3",
   "metadata": {},
   "outputs": [
    {
     "name": "stdout",
     "output_type": "stream",
     "text": [
      "tensor([2, 3, 7, 6, 1, 9, 8, 1, 8, 3, 8, 9, 6, 0, 7, 1, 8, 2, 3, 0, 1, 3, 2, 6,\n",
      "        4, 6, 2, 0, 1, 9, 7, 1, 9, 3, 2, 0, 0, 7, 4, 3, 1, 6, 1, 1, 5, 5, 4, 7,\n",
      "        2, 5, 1, 8, 7, 1, 7, 7, 4, 2, 3, 4, 4, 3, 3, 1, 4, 9, 2, 7, 2, 8, 8, 2,\n",
      "        2, 3, 9, 5, 8, 5, 6, 4, 1, 5, 5, 7, 5, 9, 0, 3, 9, 3, 6, 8, 1, 5, 4, 5,\n",
      "        4, 1, 7, 2, 0, 4, 3, 4, 4, 0, 2, 5, 2, 0, 9, 4, 6, 3, 2, 1, 3, 5, 2, 0,\n",
      "        2, 7, 0, 6, 6, 4, 1, 1])\n",
      "torch.Size([128, 1, 28, 28])\n",
      "tensor([[ 0.1366,  0.1409, -0.0066,  ..., -0.1002, -0.0707, -0.0805],\n",
      "        [ 0.0147,  0.2133,  0.0751,  ...,  0.0313,  0.0728, -0.1020],\n",
      "        [ 0.3270,  0.2021, -0.0848,  ...,  0.0139,  0.1463,  0.1312],\n",
      "        ...,\n",
      "        [-0.0615,  0.0826, -0.0776,  ..., -0.2004, -0.1815,  0.0281],\n",
      "        [ 0.1637,  0.1161,  0.0802,  ...,  0.0653, -0.0841,  0.0435],\n",
      "        [ 0.2440,  0.1169, -0.0542,  ...,  0.1920, -0.0840, -0.0539]],\n",
      "       grad_fn=<AddmmBackward0>)\n"
     ]
    }
   ],
   "source": [
    "for images, labels in train_loader:\n",
    "    print(labels)\n",
    "    print(images.shape)\n",
    "    images = images.view(images.size(0), -1)  # Flatten to [batch_size, 784]\n",
    "    outputs = model(images)\n",
    "    print(outputs)\n",
    "    break"
   ]
  },
  {
   "cell_type": "code",
   "execution_count": 45,
   "id": "3c7bc23b",
   "metadata": {},
   "outputs": [
    {
     "data": {
      "text/plain": [
       "torch.Size([128, 784])"
      ]
     },
     "execution_count": 45,
     "metadata": {},
     "output_type": "execute_result"
    }
   ],
   "source": [
    "images.shape"
   ]
  },
  {
   "cell_type": "code",
   "execution_count": 46,
   "id": "e214de89",
   "metadata": {},
   "outputs": [
    {
     "data": {
      "text/plain": [
       "torch.Size([128, 784])"
      ]
     },
     "execution_count": 46,
     "metadata": {},
     "output_type": "execute_result"
    }
   ],
   "source": [
    "images.reshape(128, 784).shape"
   ]
  },
  {
   "cell_type": "code",
   "execution_count": 47,
   "id": "97a9e482",
   "metadata": {},
   "outputs": [],
   "source": [
    "class MnistModel(nn.Module):\n",
    "    def __init__(self):\n",
    "        super().__init__()\n",
    "        self.linear = nn.Linear(input_size, num_classes)\n",
    "\n",
    "    def forward(self, xb):\n",
    "        xb = xb.reshape(-1, 784)\n",
    "        out = self.linear(xb)\n",
    "        return out\n",
    "    \n",
    "model = MnistModel()"
   ]
  },
  {
   "cell_type": "code",
   "execution_count": 48,
   "id": "03e0417a",
   "metadata": {},
   "outputs": [
    {
     "data": {
      "text/plain": [
       "Linear(in_features=784, out_features=10, bias=True)"
      ]
     },
     "execution_count": 48,
     "metadata": {},
     "output_type": "execute_result"
    }
   ],
   "source": [
    "model.linear"
   ]
  },
  {
   "cell_type": "code",
   "execution_count": 49,
   "id": "54bfb7ce",
   "metadata": {},
   "outputs": [
    {
     "name": "stdout",
     "output_type": "stream",
     "text": [
      "torch.Size([10, 784]) torch.Size([10])\n"
     ]
    },
    {
     "data": {
      "text/plain": [
       "[Parameter containing:\n",
       " tensor([[ 0.0118, -0.0085, -0.0198,  ..., -0.0115,  0.0216,  0.0179],\n",
       "         [-0.0149,  0.0137,  0.0008,  ...,  0.0105,  0.0285,  0.0074],\n",
       "         [ 0.0145,  0.0002, -0.0155,  ...,  0.0006,  0.0281, -0.0048],\n",
       "         ...,\n",
       "         [ 0.0068,  0.0067,  0.0241,  ..., -0.0070,  0.0280, -0.0242],\n",
       "         [ 0.0303, -0.0117, -0.0023,  ..., -0.0215,  0.0018,  0.0184],\n",
       "         [-0.0318, -0.0223,  0.0307,  ...,  0.0060, -0.0223, -0.0046]],\n",
       "        requires_grad=True),\n",
       " Parameter containing:\n",
       " tensor([ 0.0033, -0.0158,  0.0115,  0.0176, -0.0025, -0.0018,  0.0171, -0.0104,\n",
       "          0.0062, -0.0275], requires_grad=True)]"
      ]
     },
     "execution_count": 49,
     "metadata": {},
     "output_type": "execute_result"
    }
   ],
   "source": [
    "print(model.linear.weight.shape, model.linear.bias.shape)\n",
    "list(model.parameters())"
   ]
  },
  {
   "cell_type": "code",
   "execution_count": 50,
   "id": "d434be1b",
   "metadata": {},
   "outputs": [
    {
     "name": "stdout",
     "output_type": "stream",
     "text": [
      "torch.Size([128, 1, 28, 28])\n",
      "outputs.shape :  torch.Size([128, 10])\n",
      "Sample outputs :\n",
      " tensor([[ 6.1015e-02,  5.7396e-01,  8.4995e-03, -2.2832e-01, -2.4749e-01,\n",
      "          2.6888e-01,  1.7931e-01,  3.7348e-01, -1.0727e-02, -1.3553e-01],\n",
      "        [ 2.0751e-01,  1.8429e-01,  1.8466e-01,  8.6723e-02,  6.6109e-02,\n",
      "          1.1101e-02,  9.9129e-03, -3.9607e-02, -1.7244e-04, -4.7461e-02]])\n"
     ]
    }
   ],
   "source": [
    "for images, labels in train_loader:\n",
    "    outputs = model(images)\n",
    "    break\n",
    "print(images.shape)\n",
    "print('outputs.shape : ', outputs.shape)\n",
    "print('Sample outputs :\\n', outputs[:2].data)"
   ]
  },
  {
   "cell_type": "code",
   "execution_count": 51,
   "id": "86a9672a",
   "metadata": {},
   "outputs": [],
   "source": [
    "import torch.nn.functional as F"
   ]
  },
  {
   "cell_type": "code",
   "execution_count": 52,
   "id": "634c38cf",
   "metadata": {},
   "outputs": [
    {
     "data": {
      "text/plain": [
       "tensor([[ 6.1015e-02,  5.7396e-01,  8.4995e-03, -2.2832e-01, -2.4749e-01,\n",
       "          2.6888e-01,  1.7931e-01,  3.7348e-01, -1.0727e-02, -1.3553e-01],\n",
       "        [ 2.0751e-01,  1.8429e-01,  1.8466e-01,  8.6723e-02,  6.6109e-02,\n",
       "          1.1101e-02,  9.9129e-03, -3.9607e-02, -1.7244e-04, -4.7461e-02]],\n",
       "       grad_fn=<SliceBackward0>)"
      ]
     },
     "execution_count": 52,
     "metadata": {},
     "output_type": "execute_result"
    }
   ],
   "source": [
    "outputs[:2]"
   ]
  },
  {
   "cell_type": "code",
   "execution_count": 53,
   "id": "ecf158c2",
   "metadata": {},
   "outputs": [
    {
     "name": "stdout",
     "output_type": "stream",
     "text": [
      "Sample Probabilities:\n",
      " tensor([[0.0945, 0.1579, 0.0897, 0.0708, 0.0694, 0.1164, 0.1064, 0.1292, 0.0880,\n",
      "         0.0777],\n",
      "        [0.1147, 0.1121, 0.1121, 0.1016, 0.0996, 0.0942, 0.0941, 0.0896, 0.0932,\n",
      "         0.0889]])\n",
      "Sum:  1.0\n"
     ]
    }
   ],
   "source": [
    "# Apply softmax for each output row\n",
    "probs = F.softmax(outputs, dim=1)\n",
    "\n",
    "#look at sample probabilities\n",
    "print(\"Sample Probabilities:\\n\", probs[:2].data)\n",
    "\n",
    "#add up the probabilities of an output row\n",
    "print(\"Sum: \", torch.sum(probs[0]).item())"
   ]
  },
  {
   "cell_type": "code",
   "execution_count": 54,
   "id": "3ae01140",
   "metadata": {},
   "outputs": [
    {
     "name": "stdout",
     "output_type": "stream",
     "text": [
      "tensor([1, 0, 7, 7, 5, 5, 1, 1, 1, 1, 5, 6, 7, 6, 7, 1, 7, 0, 6, 0, 5, 7, 7, 1,\n",
      "        7, 6, 7, 6, 1, 1, 1, 7, 7, 1, 6, 1, 1, 1, 1, 5, 7, 7, 7, 6, 7, 6, 7, 6,\n",
      "        6, 6, 1, 1, 5, 0, 7, 5, 7, 2, 1, 1, 1, 7, 5, 1, 6, 7, 1, 1, 7, 5, 7, 1,\n",
      "        1, 7, 1, 1, 7, 0, 7, 7, 6, 7, 2, 5, 1, 7, 1, 1, 1, 7, 1, 1, 1, 1, 1, 6,\n",
      "        0, 1, 6, 1, 5, 0, 1, 1, 1, 8, 1, 6, 7, 2, 7, 1, 6, 5, 1, 1, 1, 6, 7, 1,\n",
      "        7, 1, 7, 5, 1, 1, 0, 0])\n",
      "tensor([0.1579, 0.1147, 0.1275, 0.1383, 0.1341, 0.1248, 0.1220, 0.1494, 0.1134,\n",
      "        0.1278, 0.1218, 0.1401, 0.1484, 0.1185, 0.1328, 0.1384, 0.1274, 0.1271,\n",
      "        0.1487, 0.1271, 0.1330, 0.1235, 0.1257, 0.1430, 0.1296, 0.1436, 0.1228,\n",
      "        0.1473, 0.1385, 0.1354, 0.1290, 0.1400, 0.1232, 0.1385, 0.1479, 0.1308,\n",
      "        0.1412, 0.1543, 0.1397, 0.1284, 0.1270, 0.1262, 0.1318, 0.1430, 0.1230,\n",
      "        0.1578, 0.1257, 0.1655, 0.1761, 0.1353, 0.1167, 0.1298, 0.1177, 0.1429,\n",
      "        0.1232, 0.1229, 0.1265, 0.1220, 0.1434, 0.1394, 0.1336, 0.1557, 0.1164,\n",
      "        0.1251, 0.1497, 0.1368, 0.1423, 0.1519, 0.1282, 0.1362, 0.1839, 0.1708,\n",
      "        0.1452, 0.1217, 0.1373, 0.1375, 0.1488, 0.1205, 0.1245, 0.1308, 0.1274,\n",
      "        0.1265, 0.1181, 0.1215, 0.1400, 0.1326, 0.1192, 0.1409, 0.1485, 0.1152,\n",
      "        0.1226, 0.1352, 0.1267, 0.1297, 0.1279, 0.1249, 0.1158, 0.1399, 0.1194,\n",
      "        0.1678, 0.1255, 0.1458, 0.1552, 0.1508, 0.1287, 0.1242, 0.1224, 0.1243,\n",
      "        0.1204, 0.1191, 0.1249, 0.1294, 0.1281, 0.1204, 0.1345, 0.1234, 0.1482,\n",
      "        0.1271, 0.1455, 0.1295, 0.1198, 0.1269, 0.1389, 0.1416, 0.1250, 0.1322,\n",
      "        0.1400, 0.1359], grad_fn=<MaxBackward0>)\n"
     ]
    }
   ],
   "source": [
    "max_probs, preds = torch.max(probs, dim=1)\n",
    "print(preds)\n",
    "print(max_probs)"
   ]
  },
  {
   "cell_type": "code",
   "execution_count": 55,
   "id": "e9270ea2",
   "metadata": {},
   "outputs": [
    {
     "data": {
      "text/plain": [
       "tensor([9, 2, 9, 9, 7, 2, 7, 7, 9, 7, 6, 0, 9, 5, 1, 4, 2, 1, 5, 1, 7, 3, 2, 1,\n",
       "        2, 0, 2, 0, 3, 7, 7, 3, 6, 7, 5, 9, 4, 4, 2, 9, 8, 5, 2, 5, 9, 8, 2, 0,\n",
       "        0, 0, 1, 5, 8, 5, 8, 4, 4, 2, 3, 8, 8, 6, 3, 1, 0, 1, 3, 5, 8, 7, 6, 4,\n",
       "        7, 0, 3, 7, 5, 1, 5, 2, 6, 2, 3, 3, 7, 6, 1, 0, 5, 2, 5, 2, 3, 5, 2, 5,\n",
       "        1, 8, 1, 8, 9, 7, 3, 3, 2, 9, 1, 3, 1, 2, 2, 7, 2, 7, 1, 3, 3, 0, 6, 8,\n",
       "        4, 4, 5, 5, 3, 8, 4, 8])"
      ]
     },
     "execution_count": 55,
     "metadata": {},
     "output_type": "execute_result"
    }
   ],
   "source": [
    "labels"
   ]
  },
  {
   "cell_type": "code",
   "execution_count": 56,
   "id": "bfee6c51",
   "metadata": {},
   "outputs": [],
   "source": [
    "def accuracy(outputs, labels):\n",
    "    _, preds = torch.max(outputs, dim=1)\n",
    "    return torch.tensor(torch.sum(preds == labels).item() / len(preds))"
   ]
  },
  {
   "cell_type": "code",
   "execution_count": 57,
   "id": "8c0638cd",
   "metadata": {},
   "outputs": [
    {
     "data": {
      "text/plain": [
       "tensor(0.0781)"
      ]
     },
     "execution_count": 57,
     "metadata": {},
     "output_type": "execute_result"
    }
   ],
   "source": [
    "accuracy(outputs, labels)"
   ]
  },
  {
   "cell_type": "code",
   "execution_count": 58,
   "id": "832206c2",
   "metadata": {},
   "outputs": [],
   "source": [
    "loss_fn = F.cross_entropy"
   ]
  },
  {
   "cell_type": "code",
   "execution_count": 59,
   "id": "57a3df46",
   "metadata": {},
   "outputs": [
    {
     "name": "stdout",
     "output_type": "stream",
     "text": [
      "tensor(2.2991, grad_fn=<NllLossBackward0>)\n"
     ]
    }
   ],
   "source": [
    "#loss for current batch of data\n",
    "loss = loss_fn(outputs, labels)\n",
    "print(loss)"
   ]
  },
  {
   "cell_type": "code",
   "execution_count": null,
   "id": "d4ea7e52",
   "metadata": {},
   "outputs": [],
   "source": [
    "def fit(epochs, lr, model, train_loader, val_loader, opt_func=torch.optim.SGD):\n",
    "    #training the model using gradient descent\n",
    "    optimizer = opt_func(model.parameters(), lr)\n",
    "    history = []# for recording epoch-wise results\n",
    "    for epoch in range(epochs):\n",
    "\n",
    "        # training Phase\n",
    "        for batch in train_loader:\n",
    "            loss = model.training_step(batch)\n",
    "            loss.backward()\n",
    "            optimizer.step()\n",
    "            optimizer.zero_grad()\n",
    "\n",
    "        # Validation Phase\n",
    "        result = evaluate(model, val_loader)\n",
    "        model.epoch_end(epoch, result)\n",
    "        history.append(result)\n",
    "\n",
    "    return history"
   ]
  },
  {
   "cell_type": "code",
   "execution_count": null,
   "id": "2a1dcb4a",
   "metadata": {},
   "outputs": [],
   "source": [
    "def evaluate(model, val_loader):\n",
    "    #Evaluates the model's performance on the validation set\n",
    "    outputs = [model.validation_step(batch) for batch in val_loader]\n",
    "    return model.validation_epoch_end(outputs)"
   ]
  },
  {
   "cell_type": "code",
   "execution_count": 62,
   "id": "bb4894db",
   "metadata": {},
   "outputs": [],
   "source": [
    "class MnistModel(nn.Module):\n",
    "    def __init__(self):\n",
    "        super().__init__()\n",
    "        self.linear = nn.Linear(input_size, num_classes)\n",
    "\n",
    "    def forward(self, xb):\n",
    "        xb = xb.reshape(-1, 784)\n",
    "        out = self.linear(xb)\n",
    "        return out\n",
    "    \n",
    "    def training_step(self, batch):\n",
    "        images, labels = batch\n",
    "        out = self(images)  #generating predictions\n",
    "        loss = F.cross_entropy(out, labels)  # Calculate loss\n",
    "        return loss\n",
    "    \n",
    "    def validation_step(self, batch):\n",
    "        images, labels = batch\n",
    "        out = self(images)  #generate predictions\n",
    "        loss = F.cross_entropy(out, labels)  #calculate loss\n",
    "        acc = accuracy(out, labels)    #calculate accuracy\n",
    "        return {'val_loss': loss, 'val_acc': acc}\n",
    "    \n",
    "    def validation_epoch_end(self, outputs):\n",
    "        batch_losses = [x['val_loss'] for x in outputs]\n",
    "        epoch_loss = torch.stack(batch_losses).mean()  #Combine losses\n",
    "        batch_accs = [x['val_acc'] for x in outputs]\n",
    "        epoch_acc = torch.stack(batch_accs).mean()   # Combine accuracies\n",
    "        return {'val_loss': epoch_loss.item(), 'val_acc': epoch_acc.item()}\n",
    "    \n",
    "    def epoch_end(self, epoch, result):\n",
    "        print(\"Epoch [{}], val_loss: {:.4f}, val_acc: {:.4f}\".format(epoch, result['val_loss'], result['val_acc']))\n",
    "\n",
    "model = MnistModel()"
   ]
  },
  {
   "cell_type": "code",
   "execution_count": 63,
   "id": "604c7f4e",
   "metadata": {},
   "outputs": [
    {
     "data": {
      "text/plain": [
       "{'val_loss': 2.3138041496276855, 'val_acc': 0.1373615562915802}"
      ]
     },
     "execution_count": 63,
     "metadata": {},
     "output_type": "execute_result"
    }
   ],
   "source": [
    "result0 = evaluate(model, val_loader)\n",
    "result0"
   ]
  },
  {
   "cell_type": "code",
   "execution_count": 64,
   "id": "3bdbfcf8",
   "metadata": {},
   "outputs": [
    {
     "name": "stdout",
     "output_type": "stream",
     "text": [
      "Epoch [0], val_loss: 1.9460, val_acc: 0.6128\n",
      "Epoch [1], val_loss: 1.6795, val_acc: 0.7196\n",
      "Epoch [2], val_loss: 1.4808, val_acc: 0.7547\n",
      "Epoch [3], val_loss: 1.3307, val_acc: 0.7759\n",
      "Epoch [4], val_loss: 1.2151, val_acc: 0.7876\n"
     ]
    }
   ],
   "source": [
    "history1 = fit(5, 0.001, model, train_loader, val_loader)"
   ]
  },
  {
   "cell_type": "code",
   "execution_count": 65,
   "id": "26a0a06d",
   "metadata": {},
   "outputs": [
    {
     "name": "stdout",
     "output_type": "stream",
     "text": [
      "Epoch [0], val_loss: 1.1241, val_acc: 0.7993\n",
      "Epoch [1], val_loss: 1.0509, val_acc: 0.8068\n",
      "Epoch [2], val_loss: 0.9909, val_acc: 0.8119\n",
      "Epoch [3], val_loss: 0.9410, val_acc: 0.8182\n",
      "Epoch [4], val_loss: 0.8987, val_acc: 0.8232\n"
     ]
    }
   ],
   "source": [
    "history2 = fit(5, 0.001, model, train_loader, val_loader)"
   ]
  },
  {
   "cell_type": "code",
   "execution_count": 66,
   "id": "9b5a4c07",
   "metadata": {},
   "outputs": [
    {
     "name": "stdout",
     "output_type": "stream",
     "text": [
      "Epoch [0], val_loss: 0.8623, val_acc: 0.8263\n",
      "Epoch [1], val_loss: 0.8308, val_acc: 0.8303\n",
      "Epoch [2], val_loss: 0.8032, val_acc: 0.8320\n",
      "Epoch [3], val_loss: 0.7788, val_acc: 0.8350\n",
      "Epoch [4], val_loss: 0.7571, val_acc: 0.8376\n"
     ]
    }
   ],
   "source": [
    "history3 = fit(5, 0.001, model, train_loader, val_loader)"
   ]
  },
  {
   "cell_type": "code",
   "execution_count": 67,
   "id": "aabe2d2c",
   "metadata": {},
   "outputs": [
    {
     "name": "stdout",
     "output_type": "stream",
     "text": [
      "Epoch [0], val_loss: 0.7374, val_acc: 0.8402\n",
      "Epoch [1], val_loss: 0.7198, val_acc: 0.8417\n",
      "Epoch [2], val_loss: 0.7037, val_acc: 0.8437\n",
      "Epoch [3], val_loss: 0.6890, val_acc: 0.8451\n",
      "Epoch [4], val_loss: 0.6756, val_acc: 0.8465\n"
     ]
    }
   ],
   "source": [
    "history4 = fit(5, 0.001, model, train_loader, val_loader)"
   ]
  },
  {
   "cell_type": "code",
   "execution_count": 68,
   "id": "029c2b98",
   "metadata": {},
   "outputs": [
    {
     "data": {
      "text/plain": [
       "Text(0.5, 1.0, 'Accuracy vs. No. of epochs')"
      ]
     },
     "execution_count": 68,
     "metadata": {},
     "output_type": "execute_result"
    },
    {
     "data": {
      "image/png": "[encoded data removed]",
      "text/plain": [
       "<Figure size 640x480 with 1 Axes>"
      ]
     },
     "metadata": {},
     "output_type": "display_data"
    }
   ],
   "source": [
    "history = [result0] + history1 + history2 + history3 + history4\n",
    "accuracies = [result['val_acc'] for result in history]\n",
    "plt.plot(accuracies, '-x')\n",
    "plt.xlabel('epoch')\n",
    "plt.ylabel('accuracy')\n",
    "plt.title('Accuracy vs. No. of epochs')"
   ]
  },
  {
   "cell_type": "code",
   "execution_count": 69,
   "id": "7e7155c1",
   "metadata": {},
   "outputs": [],
   "source": [
    "#define test dataset\n",
    "test_dataset = MNIST(root='data/',\n",
    "                     train=False,\n",
    "                     transform=transforms.ToTensor())"
   ]
  },
  {
   "cell_type": "code",
   "execution_count": 70,
   "id": "30bebf3a",
   "metadata": {},
   "outputs": [
    {
     "name": "stdout",
     "output_type": "stream",
     "text": [
      "Shape: torch.Size([1, 28, 28])\n",
      "Label: 7\n"
     ]
    },
    {
     "data": {
      "image/png": "[encoded data removed]",
      "text/plain": [
       "<Figure size 640x480 with 1 Axes>"
      ]
     },
     "metadata": {},
     "output_type": "display_data"
    }
   ],
   "source": [
    "img, label = test_dataset[0]\n",
    "plt.imshow(img[0], cmap='gray')\n",
    "print('Shape:', img.shape)\n",
    "print('Label:', label)"
   ]
  },
  {
   "cell_type": "code",
   "execution_count": 71,
   "id": "2de043d9",
   "metadata": {},
   "outputs": [
    {
     "data": {
      "text/plain": [
       "torch.Size([1, 1, 28, 28])"
      ]
     },
     "execution_count": 71,
     "metadata": {},
     "output_type": "execute_result"
    }
   ],
   "source": [
    "img.unsqueeze(0).shape"
   ]
  },
  {
   "cell_type": "code",
   "execution_count": 72,
   "id": "dc7eef39",
   "metadata": {},
   "outputs": [],
   "source": [
    "def predict_image(img, model):\n",
    "    xb = img.unsqueeze(0)\n",
    "    yb = model(xb)\n",
    "    _, preds = torch.max(yb, dim=1)\n",
    "    return preds[0].item()"
   ]
  },
  {
   "cell_type": "code",
   "execution_count": 73,
   "id": "5b436fe4",
   "metadata": {},
   "outputs": [
    {
     "name": "stdout",
     "output_type": "stream",
     "text": [
      "Label: 7 , Predicted: 7\n"
     ]
    },
    {
     "data": {
      "image/png": "[encoded data removed]",
      "text/plain": [
       "<Figure size 640x480 with 1 Axes>"
      ]
     },
     "metadata": {},
     "output_type": "display_data"
    }
   ],
   "source": [
    "img, label = test_dataset[0]\n",
    "plt.imshow(img[0], cmap='gray')\n",
    "print('Label:', label, ', Predicted:', predict_image(img, model))"
   ]
  },
  {
   "cell_type": "code",
   "execution_count": 74,
   "id": "e44a1372",
   "metadata": {},
   "outputs": [
    {
     "name": "stdout",
     "output_type": "stream",
     "text": [
      "Label: 0 , Predicted: 0\n"
     ]
    },
    {
     "data": {
      "image/png": "[encoded data removed]",
      "text/plain": [
       "<Figure size 640x480 with 1 Axes>"
      ]
     },
     "metadata": {},
     "output_type": "display_data"
    }
   ],
   "source": [
    "img, label = test_dataset[10]\n",
    "plt.imshow(img[0], cmap='gray')\n",
    "print('Label:', label, ', Predicted:', predict_image(img, model))"
   ]
  },
  {
   "cell_type": "code",
   "execution_count": 75,
   "id": "a982d54d",
   "metadata": {},
   "outputs": [
    {
     "name": "stdout",
     "output_type": "stream",
     "text": [
      "Label: 9 , Predicted: 9\n"
     ]
    },
    {
     "data": {
      "image/png": "[encoded data removed]",
      "text/plain": [
       "<Figure size 640x480 with 1 Axes>"
      ]
     },
     "metadata": {},
     "output_type": "display_data"
    }
   ],
   "source": [
    "img, label = test_dataset[193]\n",
    "plt.imshow(img[0], cmap='gray')\n",
    "print('Label:', label, ', Predicted:', predict_image(img, model))"
   ]
  },
  {
   "cell_type": "code",
   "execution_count": 76,
   "id": "79a192ef",
   "metadata": {},
   "outputs": [
    {
     "name": "stdout",
     "output_type": "stream",
     "text": [
      "Label: 2 , Predicted: 8\n"
     ]
    },
    {
     "data": {
      "image/png": "[encoded data removed]",
      "text/plain": [
       "<Figure size 640x480 with 1 Axes>"
      ]
     },
     "metadata": {},
     "output_type": "display_data"
    }
   ],
   "source": [
    "img, label = test_dataset[1839]\n",
    "plt.imshow(img[0], cmap='gray')\n",
    "print('Label:', label, ', Predicted:', predict_image(img, model))"
   ]
  },
  {
   "cell_type": "code",
   "execution_count": 77,
   "id": "8f798b53",
   "metadata": {},
   "outputs": [
    {
     "data": {
      "text/plain": [
       "{'val_loss': 0.6426001787185669, 'val_acc': 0.8584960699081421}"
      ]
     },
     "execution_count": 77,
     "metadata": {},
     "output_type": "execute_result"
    }
   ],
   "source": [
    "test_loader = DataLoader(test_dataset, batch_size=256)\n",
    "result = evaluate(model, test_loader)\n",
    "result"
   ]
  },
  {
   "cell_type": "code",
   "execution_count": 78,
   "id": "c6638d7f",
   "metadata": {},
   "outputs": [],
   "source": [
    "torch.save(model.state_dict(), 'mnist-logistic.pth')"
   ]
  },
  {
   "cell_type": "code",
   "execution_count": 79,
   "id": "26f3a90b",
   "metadata": {},
   "outputs": [
    {
     "data": {
      "text/plain": [
       "OrderedDict([('linear.weight',\n",
       "              tensor([[ 0.0252,  0.0211,  0.0352,  ..., -0.0047, -0.0227,  0.0260],\n",
       "                      [-0.0023,  0.0124,  0.0334,  ..., -0.0277, -0.0086, -0.0292],\n",
       "                      [-0.0299, -0.0142, -0.0101,  ...,  0.0176,  0.0268,  0.0203],\n",
       "                      ...,\n",
       "                      [-0.0319,  0.0113, -0.0060,  ...,  0.0281, -0.0032,  0.0351],\n",
       "                      [ 0.0070,  0.0123,  0.0102,  ...,  0.0283,  0.0352,  0.0055],\n",
       "                      [-0.0299,  0.0285,  0.0316,  ..., -0.0175,  0.0082,  0.0139]])),\n",
       "             ('linear.bias',\n",
       "              tensor([-0.0621,  0.0787, -0.0288, -0.0132,  0.0359,  0.0560,  0.0024,  0.0164,\n",
       "                      -0.0953, -0.0293]))])"
      ]
     },
     "execution_count": 79,
     "metadata": {},
     "output_type": "execute_result"
    }
   ],
   "source": [
    "model2 = MnistModel()\n",
    "model2.load_state_dict(torch.load('mnist-logistic.pth'))\n",
    "model2.state_dict()"
   ]
  },
  {
   "cell_type": "code",
   "execution_count": 80,
   "id": "45938204",
   "metadata": {},
   "outputs": [
    {
     "data": {
      "text/plain": [
       "{'val_loss': 0.6426001787185669, 'val_acc': 0.8584960699081421}"
      ]
     },
     "execution_count": 80,
     "metadata": {},
     "output_type": "execute_result"
    }
   ],
   "source": [
    "test_loader = DataLoader(test_dataset, batch_size=256)\n",
    "result = evaluate(model2, test_loader)\n",
    "result"
   ]
  }
 ],
 "metadata": {
  "kernelspec": {
   "display_name": "Python 3",
   "language": "python",
   "name": "python3"
  },
  "language_info": {
   "codemirror_mode": {
    "name": "ipython",
    "version": 3
   },
   "file_extension": ".py",
   "mimetype": "text/x-python",
   "name": "python",
   "nbconvert_exporter": "python",
   "pygments_lexer": "ipython3",
   "version": "3.13.3"
  }
 },
 "nbformat": 4,
 "nbformat_minor": 5
}
