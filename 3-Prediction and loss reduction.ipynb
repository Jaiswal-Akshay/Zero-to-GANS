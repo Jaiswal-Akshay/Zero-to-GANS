{
 "cells": [
  {
   "cell_type": "code",
   "execution_count": 29,
   "id": "643495e8",
   "metadata": {},
   "outputs": [],
   "source": [
    "import torch\n",
    "import torch.nn as nn\n",
    "import numpy as np"
   ]
  },
  {
   "cell_type": "code",
   "execution_count": null,
   "id": "ef793252",
   "metadata": {},
   "outputs": [],
   "source": [
    "# Input (temp, rainfall, humidity)\n",
    "inputs = np.array([[73, 67, 43],\n",
    "                   [91, 88, 64],\n",
    "                   [87, 134, 58],\n",
    "                   [102, 43, 37],\n",
    "                   [69, 96, 70],\n",
    "                   [74, 66, 43],\n",
    "                   [91, 87, 65],\n",
    "                   [88, 134, 59],\n",
    "                   [101, 44, 37],\n",
    "                   [68, 96, 71],\n",
    "                   [73, 66, 44],\n",
    "                   [92, 87, 64],\n",
    "                   [87, 135, 57],\n",
    "                   [103, 43, 36],\n",
    "                   [68, 97, 70]],dtype='float32')\n",
    "\n",
    "# Targets (apples, oranges)\n",
    "targets = np.array([[56, 70],\n",
    "                    [81, 101],\n",
    "                    [119, 133],\n",
    "                    [22, 37],\n",
    "                    [103, 119],\n",
    "                    [57, 69],\n",
    "                    [80, 102],\n",
    "                    [118, 132],\n",
    "                    [21, 38],\n",
    "                    [104, 118],\n",
    "                    [57, 69],\n",
    "                    [82, 100],\n",
    "                    [118, 134],\n",
    "                    [20, 38],\n",
    "                    [102, 120]],dtype='float32')\n",
    "\n",
    "inputs = torch.from_numpy(inputs)\n",
    "targets = torch.from_numpy(targets)"
   ]
  },
  {
   "cell_type": "code",
   "execution_count": 16,
   "id": "6b4f0bfa",
   "metadata": {},
   "outputs": [
    {
     "data": {
      "text/plain": [
       "(tensor([[ 56.,  70.],\n",
       "         [ 81., 101.],\n",
       "         [119., 133.],\n",
       "         [ 22.,  37.],\n",
       "         [103., 119.],\n",
       "         [ 57.,  69.],\n",
       "         [ 80., 102.],\n",
       "         [118., 132.],\n",
       "         [ 21.,  38.],\n",
       "         [104., 118.],\n",
       "         [ 57.,  69.],\n",
       "         [ 82., 100.],\n",
       "         [118., 134.],\n",
       "         [ 20.,  38.],\n",
       "         [102., 120.]]),\n",
       " tensor([[ 73.,  67.,  43.],\n",
       "         [ 91.,  88.,  64.],\n",
       "         [ 87., 134.,  58.],\n",
       "         [102.,  43.,  37.],\n",
       "         [ 69.,  96.,  70.],\n",
       "         [ 74.,  66.,  43.],\n",
       "         [ 91.,  87.,  65.],\n",
       "         [ 88., 134.,  59.],\n",
       "         [101.,  44.,  37.],\n",
       "         [ 68.,  96.,  71.],\n",
       "         [ 73.,  66.,  44.],\n",
       "         [ 92.,  87.,  64.],\n",
       "         [ 87., 135.,  57.],\n",
       "         [103.,  43.,  36.],\n",
       "         [ 68.,  97.,  70.]]))"
      ]
     },
     "execution_count": 16,
     "metadata": {},
     "output_type": "execute_result"
    }
   ],
   "source": [
    "targets, inputs"
   ]
  },
  {
   "cell_type": "code",
   "execution_count": 18,
   "id": "66224b28",
   "metadata": {},
   "outputs": [],
   "source": [
    "from torch.utils.data import TensorDataset"
   ]
  },
  {
   "cell_type": "code",
   "execution_count": 22,
   "id": "1a256479",
   "metadata": {},
   "outputs": [],
   "source": [
    "from torch.utils.data import DataLoader"
   ]
  },
  {
   "cell_type": "code",
   "execution_count": null,
   "id": "c2eb4c3f",
   "metadata": {},
   "outputs": [
    {
     "data": {
      "text/plain": [
       "(tensor([[ 73.,  67.,  43.],\n",
       "         [ 91.,  88.,  64.],\n",
       "         [ 87., 134.,  58.]]),\n",
       " tensor([[ 56.,  70.],\n",
       "         [ 81., 101.],\n",
       "         [119., 133.]]))"
      ]
     },
     "execution_count": 20,
     "metadata": {},
     "output_type": "execute_result"
    }
   ],
   "source": [
    "#define Dataset\n",
    "# TensorDataset allows us to use inputs as tuples\n",
    "# we can't change/modify the elements in tuple\n",
    "train_ds = TensorDataset(inputs, targets)\n",
    "train_ds[0:3] # this lines gives us the first 3 rows of inputs and targets"
   ]
  },
  {
   "cell_type": "code",
   "execution_count": 23,
   "id": "b2b3efe1",
   "metadata": {},
   "outputs": [],
   "source": [
    "#define data loader\n",
    "batch_size = 5\n",
    "train_dl = DataLoader(train_ds, batch_size, shuffle=True)"
   ]
  },
  {
   "cell_type": "code",
   "execution_count": 24,
   "id": "123b2ab2",
   "metadata": {},
   "outputs": [
    {
     "name": "stdout",
     "output_type": "stream",
     "text": [
      "tensor([[ 74.,  66.,  43.],\n",
      "        [ 69.,  96.,  70.],\n",
      "        [101.,  44.,  37.],\n",
      "        [ 68.,  97.,  70.],\n",
      "        [ 73.,  66.,  44.]])\n",
      "tensor([[ 57.,  69.],\n",
      "        [103., 119.],\n",
      "        [ 21.,  38.],\n",
      "        [102., 120.],\n",
      "        [ 57.,  69.]])\n"
     ]
    }
   ],
   "source": [
    "for xb, yb in train_dl:\n",
    "    print(xb)\n",
    "    print(yb)\n",
    "    break"
   ]
  },
  {
   "cell_type": "code",
   "execution_count": 25,
   "id": "0caf960c",
   "metadata": {},
   "outputs": [
    {
     "data": {
      "text/plain": [
       "tensor([[ 73.,  67.,  43.],\n",
       "        [ 91.,  88.,  64.],\n",
       "        [ 87., 134.,  58.],\n",
       "        [102.,  43.,  37.],\n",
       "        [ 69.,  96.,  70.],\n",
       "        [ 74.,  66.,  43.],\n",
       "        [ 91.,  87.,  65.],\n",
       "        [ 88., 134.,  59.],\n",
       "        [101.,  44.,  37.],\n",
       "        [ 68.,  96.,  71.],\n",
       "        [ 73.,  66.,  44.],\n",
       "        [ 92.,  87.,  64.],\n",
       "        [ 87., 135.,  57.],\n",
       "        [103.,  43.,  36.],\n",
       "        [ 68.,  97.,  70.]])"
      ]
     },
     "execution_count": 25,
     "metadata": {},
     "output_type": "execute_result"
    }
   ],
   "source": [
    "inputs"
   ]
  },
  {
   "cell_type": "code",
   "execution_count": 31,
   "id": "5c71d70d",
   "metadata": {},
   "outputs": [
    {
     "name": "stdout",
     "output_type": "stream",
     "text": [
      "Parameter containing:\n",
      "tensor([[-0.5205,  0.5674,  0.4259],\n",
      "        [-0.0420,  0.1170, -0.1215]], requires_grad=True)\n",
      "Parameter containing:\n",
      "tensor([ 0.1262, -0.4069], requires_grad=True)\n"
     ]
    }
   ],
   "source": [
    "#define model\n",
    "model = nn.Linear(3, 2)\n",
    "print(model.weight)\n",
    "print(model.bias)"
   ]
  },
  {
   "cell_type": "code",
   "execution_count": 32,
   "id": "e16c3e46",
   "metadata": {},
   "outputs": [
    {
     "data": {
      "text/plain": [
       "[Parameter containing:\n",
       " tensor([[-0.5205,  0.5674,  0.4259],\n",
       "         [-0.0420,  0.1170, -0.1215]], requires_grad=True),\n",
       " Parameter containing:\n",
       " tensor([ 0.1262, -0.4069], requires_grad=True)]"
      ]
     },
     "execution_count": 32,
     "metadata": {},
     "output_type": "execute_result"
    }
   ],
   "source": [
    "#parameter\n",
    "list(model.parameters())"
   ]
  },
  {
   "cell_type": "code",
   "execution_count": 33,
   "id": "a8eb173f",
   "metadata": {},
   "outputs": [
    {
     "data": {
      "text/plain": [
       "tensor([[ 18.4598,  -0.8591],\n",
       "        [ 29.9503,  -1.7101],\n",
       "        [ 55.5774,   4.5706],\n",
       "        [-12.8076,  -4.1568],\n",
       "        [ 48.4958,  -0.5789],\n",
       "        [ 17.3719,  -1.0181],\n",
       "        [ 29.8088,  -1.9486],\n",
       "        [ 55.4828,   4.4070],\n",
       "        [-11.7197,  -3.9978],\n",
       "        [ 49.4422,  -0.6584],\n",
       "        [ 18.3183,  -1.0977],\n",
       "        [ 28.8624,  -1.8691],\n",
       "        [ 55.7189,   4.8091],\n",
       "        [-13.7540,  -4.0773],\n",
       "        [ 49.5837,  -0.4198]], grad_fn=<AddmmBackward0>)"
      ]
     },
     "execution_count": 33,
     "metadata": {},
     "output_type": "execute_result"
    }
   ],
   "source": [
    "#generate predictions\n",
    "preds = model(inputs)\n",
    "preds"
   ]
  },
  {
   "cell_type": "code",
   "execution_count": 35,
   "id": "2e5db19b",
   "metadata": {},
   "outputs": [],
   "source": [
    "#import nn.functional\n",
    "import torch.nn.functional as F"
   ]
  },
  {
   "cell_type": "code",
   "execution_count": 36,
   "id": "80104ae2",
   "metadata": {},
   "outputs": [],
   "source": [
    "#define loss function\n",
    "loss_fn = F.mse_loss"
   ]
  },
  {
   "cell_type": "code",
   "execution_count": 38,
   "id": "59166329",
   "metadata": {},
   "outputs": [
    {
     "name": "stdout",
     "output_type": "stream",
     "text": [
      "tensor(6016.4111, grad_fn=<MseLossBackward0>)\n"
     ]
    }
   ],
   "source": [
    "loss = loss_fn(model(inputs), targets)\n",
    "print(loss)"
   ]
  },
  {
   "cell_type": "code",
   "execution_count": 40,
   "id": "211dab12",
   "metadata": {},
   "outputs": [],
   "source": [
    "#define optimizer\n",
    "opt = torch.optim.SGD(model.parameters(), lr=1e-5)"
   ]
  },
  {
   "cell_type": "code",
   "execution_count": 50,
   "id": "944ef725",
   "metadata": {},
   "outputs": [],
   "source": [
    "#utility function to train the model\n",
    "def fit(num_epochs, model, loss_fn, opt, train_dl):\n",
    "\n",
    "    #repeats for given numbers of epochs\n",
    "    for epoch in range(num_epochs):\n",
    "\n",
    "        #train with batches of data\n",
    "        for xb,yb in train_dl:  \n",
    "\n",
    "            #1. generate prediction\n",
    "            pred = model(xb)\n",
    "\n",
    "            #2. Calculate loss\n",
    "            loss = loss_fn(pred, yb)\n",
    "\n",
    "            #3. compute gradients\n",
    "            loss.backward()\n",
    "\n",
    "            #4. update parameters using gardients\n",
    "            opt.step()\n",
    "\n",
    "            #5. reset the gradients to zero\n",
    "            opt.zero_grad()\n",
    "\n",
    "        #print the progress\n",
    "        if(epoch+1) % 10 == 0:\n",
    "            print('Epoch [{}/{}], Loss: {:.4f}'.format(epoch+1, num_epochs, loss.item()))"
   ]
  },
  {
   "cell_type": "code",
   "execution_count": 51,
   "id": "e2c0704c",
   "metadata": {},
   "outputs": [
    {
     "name": "stdout",
     "output_type": "stream",
     "text": [
      "Epoch [10/100], Loss: 4.2097\n",
      "Epoch [20/100], Loss: 4.2491\n",
      "Epoch [30/100], Loss: 2.9147\n",
      "Epoch [40/100], Loss: 1.6601\n",
      "Epoch [50/100], Loss: 4.2203\n",
      "Epoch [60/100], Loss: 2.9274\n",
      "Epoch [70/100], Loss: 2.6606\n",
      "Epoch [80/100], Loss: 2.5466\n",
      "Epoch [90/100], Loss: 2.4614\n",
      "Epoch [100/100], Loss: 2.5447\n"
     ]
    }
   ],
   "source": [
    "fit(100, model, loss_fn, opt, train_dl)"
   ]
  },
  {
   "cell_type": "code",
   "execution_count": 53,
   "id": "1a128f5e",
   "metadata": {},
   "outputs": [
    {
     "data": {
      "text/plain": [
       "tensor([[ 56.9879,  70.5237],\n",
       "        [ 81.8370,  99.4717],\n",
       "        [118.5490, 135.3947],\n",
       "        [ 20.9096,  38.4745],\n",
       "        [101.4945, 116.1177],\n",
       "        [ 55.7366,  69.4229],\n",
       "        [ 81.6604,  99.3501],\n",
       "        [118.8239, 135.8828],\n",
       "        [ 22.1609,  39.5753],\n",
       "        [102.5692, 117.0969],\n",
       "        [ 56.8113,  70.4021],\n",
       "        [ 80.5857,  98.3709],\n",
       "        [118.7256, 135.5163],\n",
       "        [ 19.8349,  37.4953],\n",
       "        [102.7458, 117.2185]], grad_fn=<AddmmBackward0>)"
      ]
     },
     "execution_count": 53,
     "metadata": {},
     "output_type": "execute_result"
    }
   ],
   "source": [
    "#generating predictions\n",
    "preds = model(inputs)\n",
    "preds"
   ]
  },
  {
   "cell_type": "code",
   "execution_count": 54,
   "id": "a7e20ec6",
   "metadata": {},
   "outputs": [
    {
     "data": {
      "text/plain": [
       "tensor([[ 56.,  70.],\n",
       "        [ 81., 101.],\n",
       "        [119., 133.],\n",
       "        [ 22.,  37.],\n",
       "        [103., 119.],\n",
       "        [ 57.,  69.],\n",
       "        [ 80., 102.],\n",
       "        [118., 132.],\n",
       "        [ 21.,  38.],\n",
       "        [104., 118.],\n",
       "        [ 57.,  69.],\n",
       "        [ 82., 100.],\n",
       "        [118., 134.],\n",
       "        [ 20.,  38.],\n",
       "        [102., 120.]])"
      ]
     },
     "execution_count": 54,
     "metadata": {},
     "output_type": "execute_result"
    }
   ],
   "source": [
    "#comparing with targets\n",
    "targets"
   ]
  },
  {
   "cell_type": "code",
   "execution_count": 55,
   "id": "8405605f",
   "metadata": {},
   "outputs": [
    {
     "data": {
      "text/plain": [
       "tensor([[53.4575, 67.3452]], grad_fn=<AddmmBackward0>)"
      ]
     },
     "execution_count": 55,
     "metadata": {},
     "output_type": "execute_result"
    }
   ],
   "source": [
    "#generating pprediction for 6th region\n",
    "model(torch.tensor([[75, 63, 44.]]))"
   ]
  },
  {
   "cell_type": "code",
   "execution_count": 1,
   "id": "a28fdc8b",
   "metadata": {},
   "outputs": [
    {
     "ename": "NameError",
     "evalue": "name 'nn' is not defined",
     "output_type": "error",
     "traceback": [
      "\u001b[31m---------------------------------------------------------------------------\u001b[39m",
      "\u001b[31mNameError\u001b[39m                                 Traceback (most recent call last)",
      "\u001b[36mCell\u001b[39m\u001b[36m \u001b[39m\u001b[32mIn[1]\u001b[39m\u001b[32m, line 1\u001b[39m\n\u001b[32m----> \u001b[39m\u001b[32m1\u001b[39m model2 = \u001b[43mnn\u001b[49m.Sequential(\n\u001b[32m      2\u001b[39m     nn.Linear(\u001b[32m3\u001b[39m, \u001b[32m4\u001b[39m),\n\u001b[32m      3\u001b[39m     nn.Sigmoid(),\n\u001b[32m      4\u001b[39m     nn.Linear(\u001b[32m4\u001b[39m, \u001b[32m2\u001b[39m)\n\u001b[32m      5\u001b[39m )\n",
      "\u001b[31mNameError\u001b[39m: name 'nn' is not defined"
     ]
    }
   ],
   "source": [
    "model2 = nn.Sequential(\n",
    "    nn.Linear(3, 4),\n",
    "    nn.Sigmoid(),\n",
    "    nn.Linear(4, 2)\n",
    ")"
   ]
  },
  {
   "cell_type": "code",
   "execution_count": 58,
   "id": "80e40ec3",
   "metadata": {},
   "outputs": [],
   "source": [
    "opt = torch.optim.SGD(model2.parameters(), lr=1e-4)"
   ]
  },
  {
   "cell_type": "code",
   "execution_count": 59,
   "id": "51b90449",
   "metadata": {},
   "outputs": [
    {
     "name": "stdout",
     "output_type": "stream",
     "text": [
      "Epoch [10/100], Loss: 7659.7930\n",
      "Epoch [20/100], Loss: 9448.5439\n",
      "Epoch [30/100], Loss: 6602.6494\n",
      "Epoch [40/100], Loss: 5677.1943\n",
      "Epoch [50/100], Loss: 7344.3311\n",
      "Epoch [60/100], Loss: 5645.2920\n",
      "Epoch [70/100], Loss: 9943.1953\n",
      "Epoch [80/100], Loss: 7621.4038\n",
      "Epoch [90/100], Loss: 8276.8418\n",
      "Epoch [100/100], Loss: 9460.2402\n"
     ]
    }
   ],
   "source": [
    "fit(100, model2, F.mse_loss, opt, train_dl)"
   ]
  }
 ],
 "metadata": {
  "kernelspec": {
   "display_name": "Python 3",
   "language": "python",
   "name": "python3"
  },
  "language_info": {
   "codemirror_mode": {
    "name": "ipython",
    "version": 3
   },
   "file_extension": ".py",
   "mimetype": "text/x-python",
   "name": "python",
   "nbconvert_exporter": "python",
   "pygments_lexer": "ipython3",
   "version": "3.13.3"
  }
 },
 "nbformat": 4,
 "nbformat_minor": 5
}
