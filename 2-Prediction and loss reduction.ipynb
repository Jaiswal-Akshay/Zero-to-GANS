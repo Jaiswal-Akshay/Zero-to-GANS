{
 "cells": [
  {
   "cell_type": "code",
   "execution_count": 1,
   "id": "d375a15d",
   "metadata": {},
   "outputs": [],
   "source": [
    "import numpy as np\n",
    "import torch"
   ]
  },
  {
   "cell_type": "code",
   "execution_count": 2,
   "id": "3be7546e",
   "metadata": {},
   "outputs": [],
   "source": [
    "#Production of apples and oranges in 5 regions based on below 3 parameters\n",
    "#input (temp, rainfall, humidity) for 5 regions\n",
    "inputs = np.array([[73, 67, 43],\n",
    "                   [91, 88, 64],\n",
    "                   [87, 134, 58],\n",
    "                   [102, 43, 37],\n",
    "                   [69, 96, 70]], dtype='float32')"
   ]
  },
  {
   "cell_type": "code",
   "execution_count": 3,
   "id": "df43ed2a",
   "metadata": {},
   "outputs": [],
   "source": [
    "# Targets (apples, oranges)\n",
    "targets = np.array([[56, 70],\n",
    "                    [81, 101],\n",
    "                    [119, 133],\n",
    "                    [22, 37],\n",
    "                    [103, 119]], dtype='float32')"
   ]
  },
  {
   "cell_type": "code",
   "execution_count": 4,
   "id": "9e34a23f",
   "metadata": {},
   "outputs": [
    {
     "name": "stdout",
     "output_type": "stream",
     "text": [
      "tensor([[ 73.,  67.,  43.],\n",
      "        [ 91.,  88.,  64.],\n",
      "        [ 87., 134.,  58.],\n",
      "        [102.,  43.,  37.],\n",
      "        [ 69.,  96.,  70.]])\n",
      "tensor([[ 56.,  70.],\n",
      "        [ 81., 101.],\n",
      "        [119., 133.],\n",
      "        [ 22.,  37.],\n",
      "        [103., 119.]])\n"
     ]
    }
   ],
   "source": [
    "#converting inputs and targets to tensors\n",
    "inputs = torch.from_numpy(inputs)\n",
    "targets = torch.from_numpy(targets)\n",
    "print(inputs)\n",
    "print(targets)"
   ]
  },
  {
   "cell_type": "code",
   "execution_count": null,
   "id": "a6712858",
   "metadata": {},
   "outputs": [
    {
     "name": "stdout",
     "output_type": "stream",
     "text": [
      "tensor([[-0.0807,  2.8728, -1.1009],\n",
      "        [ 0.4843,  2.1051, -0.5995]], requires_grad=True)\n",
      "tensor([-1.0090, -0.3623], requires_grad=True)\n"
     ]
    }
   ],
   "source": [
    "#generating random weights and baises\n",
    "w = torch.randn(2, 3, requires_grad=True) #weight matrix of size 2x3\n",
    "b = torch.randn(2, requires_grad=True) # bias vector of size 2\n",
    "print(w)\n",
    "print(b)"
   ]
  },
  {
   "cell_type": "code",
   "execution_count": 15,
   "id": "012ca944",
   "metadata": {},
   "outputs": [],
   "source": [
    "def model(x):\n",
    "    return x @ w.t() + b # @ represents matrix multiplication in torch"
   ]
  },
  {
   "cell_type": "code",
   "execution_count": null,
   "id": "d2d3a66c",
   "metadata": {},
   "outputs": [
    {
     "name": "stdout",
     "output_type": "stream",
     "text": [
      "tensor([[138.2371, 150.2567],\n",
      "        [173.9939, 190.5920],\n",
      "        [313.0696, 289.0884],\n",
      "        [ 73.5555, 117.3753],\n",
      "        [192.1463, 193.1813]], grad_fn=<AddBackward0>)\n"
     ]
    }
   ],
   "source": [
    "#generating predictions by passing input values to our model function\n",
    "preds = model(inputs)\n",
    "print(preds)"
   ]
  },
  {
   "cell_type": "code",
   "execution_count": 17,
   "id": "1470ffae",
   "metadata": {},
   "outputs": [
    {
     "name": "stdout",
     "output_type": "stream",
     "text": [
      "tensor([[ 56.,  70.],\n",
      "        [ 81., 101.],\n",
      "        [119., 133.],\n",
      "        [ 22.,  37.],\n",
      "        [103., 119.]])\n"
     ]
    }
   ],
   "source": [
    "# compare with targets\n",
    "print(targets)"
   ]
  },
  {
   "cell_type": "code",
   "execution_count": null,
   "id": "5498e687",
   "metadata": {},
   "outputs": [
    {
     "ename": "NameError",
     "evalue": "name 'preds' is not defined",
     "output_type": "error",
     "traceback": [
      "\u001b[31m---------------------------------------------------------------------------\u001b[39m",
      "\u001b[31mNameError\u001b[39m                                 Traceback (most recent call last)",
      "\u001b[36mCell\u001b[39m\u001b[36m \u001b[39m\u001b[32mIn[5]\u001b[39m\u001b[32m, line 1\u001b[39m\n\u001b[32m----> \u001b[39m\u001b[32m1\u001b[39m diff = \u001b[43mpreds\u001b[49m - targets\n\u001b[32m      2\u001b[39m torch.sqrt(torch.sum(diff*diff)/ diff.numel()) \u001b[38;5;66;03m# mean squred error\u001b[39;00m\n",
      "\u001b[31mNameError\u001b[39m: name 'preds' is not defined"
     ]
    }
   ],
   "source": [
    "diff = preds - targets\n",
    "torch.sqrt(torch.sum(diff*diff)/ diff.numel()) # mean squred error\n",
    "# numel method is used to count the total number of elements in any tensor/ndimention matrix"
   ]
  },
  {
   "cell_type": "code",
   "execution_count": 28,
   "id": "ff57de10",
   "metadata": {},
   "outputs": [],
   "source": [
    "# Mean Squared error\n",
    "def mse(t1, t2):\n",
    "    diff = t1-t2\n",
    "    return torch.sum(diff*diff)/ diff.numel()"
   ]
  },
  {
   "cell_type": "code",
   "execution_count": 29,
   "id": "c9c3e35c",
   "metadata": {},
   "outputs": [
    {
     "name": "stdout",
     "output_type": "stream",
     "text": [
      "tensor(11447.3320, grad_fn=<DivBackward0>)\n"
     ]
    }
   ],
   "source": [
    "#computing loss\n",
    "loss = mse(preds, targets)\n",
    "print(loss)"
   ]
  },
  {
   "cell_type": "code",
   "execution_count": 30,
   "id": "e1e82729",
   "metadata": {},
   "outputs": [],
   "source": [
    "#computing gradients\n",
    "loss.backward()"
   ]
  },
  {
   "cell_type": "code",
   "execution_count": 32,
   "id": "be507d73",
   "metadata": {},
   "outputs": [
    {
     "name": "stdout",
     "output_type": "stream",
     "text": [
      "tensor([[-0.0807,  2.8728, -1.1009],\n",
      "        [ 0.4843,  2.1051, -0.5995]], requires_grad=True)\n",
      "tensor([[ 8551.9111, 10094.7197,  5778.3262],\n",
      "        [ 8181.6187,  8950.9365,  5280.9258]])\n",
      "tensor([-1.0090, -0.3623], requires_grad=True)\n",
      "tensor([102.0005,  96.0987])\n"
     ]
    }
   ],
   "source": [
    "#gradients for weights\n",
    "print(w)\n",
    "print(w.grad)\n",
    "print(b)\n",
    "print(b.grad)"
   ]
  },
  {
   "cell_type": "code",
   "execution_count": 33,
   "id": "acfe8b22",
   "metadata": {},
   "outputs": [],
   "source": [
    "with torch.no_grad():\n",
    "    w -= w.grad * 1e-5\n",
    "    b -= b.grad * 1e-5"
   ]
  },
  {
   "cell_type": "code",
   "execution_count": 34,
   "id": "de755eaa",
   "metadata": {},
   "outputs": [
    {
     "data": {
      "text/plain": [
       "(tensor([[-0.1662,  2.7718, -1.1587],\n",
       "         [ 0.4025,  2.0156, -0.6523]], requires_grad=True),\n",
       " tensor([-1.0100, -0.3632], requires_grad=True))"
      ]
     },
     "execution_count": 34,
     "metadata": {},
     "output_type": "execute_result"
    }
   ],
   "source": [
    "w, b"
   ]
  },
  {
   "cell_type": "code",
   "execution_count": 37,
   "id": "27385c82",
   "metadata": {},
   "outputs": [
    {
     "name": "stdout",
     "output_type": "stream",
     "text": [
      "tensor(7956.3213, grad_fn=<DivBackward0>)\n"
     ]
    }
   ],
   "source": [
    "#let's verify that the loss is actuallu lower\n",
    "preds = model(inputs)\n",
    "loss = mse(preds, targets)\n",
    "print(loss)"
   ]
  },
  {
   "cell_type": "code",
   "execution_count": null,
   "id": "3915d077",
   "metadata": {},
   "outputs": [
    {
     "name": "stdout",
     "output_type": "stream",
     "text": [
      "tensor([[0., 0., 0.],\n",
      "        [0., 0., 0.]])\n",
      "tensor([0., 0.])\n"
     ]
    }
   ],
   "source": [
    "w.grad.zero_()\n",
    "b.grad.zero_()\n",
    "#reseting the gradient to zero so that it will start calculation again and not continue on old gradient\n",
    "print(w.grad)\n",
    "print(b.grad)"
   ]
  },
  {
   "cell_type": "code",
   "execution_count": null,
   "id": "e28c095c",
   "metadata": {},
   "outputs": [],
   "source": [
    "#train for 100 Epochs\n",
    "# process of training model 1 time is call an\n",
    "for i in range(20000):\n",
    "    preds = model(inputs)\n",
    "    loss = mse(preds, targets)\n",
    "    loss.backward()\n",
    "    with torch.no_grad():\n",
    "        w -= w.grad * 1e-5\n",
    "        b -= b.grad * 1e-5\n",
    "        w.grad.zero_()\n",
    "        b.grad.zero_()"
   ]
  },
  {
   "cell_type": "code",
   "execution_count": 54,
   "id": "a13a59f8",
   "metadata": {},
   "outputs": [
    {
     "name": "stdout",
     "output_type": "stream",
     "text": [
      "tensor(0.4989, grad_fn=<DivBackward0>)\n"
     ]
    }
   ],
   "source": [
    "#calculate loss\n",
    "preds = model(inputs)\n",
    "loss = mse(preds, targets)\n",
    "print(loss)"
   ]
  },
  {
   "cell_type": "code",
   "execution_count": 55,
   "id": "edd8d559",
   "metadata": {},
   "outputs": [
    {
     "data": {
      "text/plain": [
       "tensor([[ 56.9976,  70.2482],\n",
       "        [ 82.3119, 100.7083],\n",
       "        [118.7205, 132.9685],\n",
       "        [ 21.1026,  37.0228],\n",
       "        [101.8934, 119.1281]], grad_fn=<AddBackward0>)"
      ]
     },
     "execution_count": 55,
     "metadata": {},
     "output_type": "execute_result"
    }
   ],
   "source": [
    "#Prediction\n",
    "preds"
   ]
  },
  {
   "cell_type": "code",
   "execution_count": 46,
   "id": "72df1315",
   "metadata": {},
   "outputs": [
    {
     "data": {
      "text/plain": [
       "tensor([[ 56.,  70.],\n",
       "        [ 81., 101.],\n",
       "        [119., 133.],\n",
       "        [ 22.,  37.],\n",
       "        [103., 119.]])"
      ]
     },
     "execution_count": 46,
     "metadata": {},
     "output_type": "execute_result"
    }
   ],
   "source": [
    "#target\n",
    "targets"
   ]
  }
 ],
 "metadata": {
  "kernelspec": {
   "display_name": "Python 3",
   "language": "python",
   "name": "python3"
  },
  "language_info": {
   "codemirror_mode": {
    "name": "ipython",
    "version": 3
   },
   "file_extension": ".py",
   "mimetype": "text/x-python",
   "name": "python",
   "nbconvert_exporter": "python",
   "pygments_lexer": "ipython3",
   "version": "3.13.3"
  }
 },
 "nbformat": 4,
 "nbformat_minor": 5
}
